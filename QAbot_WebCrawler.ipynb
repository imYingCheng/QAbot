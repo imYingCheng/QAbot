{
  "nbformat": 4,
  "nbformat_minor": 0,
  "metadata": {
    "colab": {
      "provenance": []
    },
    "kernelspec": {
      "name": "python3",
      "display_name": "Python 3"
    },
    "language_info": {
      "name": "python"
    }
  },
  "cells": [
    {
      "cell_type": "code",
      "source": [
        "from google.colab import drive\n",
        "drive.mount('/content/drive')"
      ],
      "metadata": {
        "id": "k45T19IdF4Sq",
        "colab": {
          "base_uri": "https://localhost:8080/"
        },
        "outputId": "757c5053-c8d1-4795-898e-f17b2c0cbb83"
      },
      "execution_count": null,
      "outputs": [
        {
          "output_type": "stream",
          "name": "stdout",
          "text": [
            "Mounted at /content/drive\n"
          ]
        }
      ]
    },
    {
      "cell_type": "code",
      "source": [
        "import requests\n",
        "import bs4\n",
        "import requests as req\n",
        "import json\n",
        "\n",
        "with open('/content/drive/MyDrive/Stupid_QA_4_Question.json', 'r', encoding='UTF-8') as f:\n",
        "\tJsonList = json.load(f)\n",
        "a=[]\n",
        "\n",
        "for num in range(0,len(JsonList)):\n",
        "  query = JsonList[num]['Question']\n",
        "\n",
        "  ans=[JsonList[num]['A'],JsonList[num]['B'],JsonList[num]['C']]\n",
        "  url = 'https://www.google.com/search?q={}'.format(query) \n",
        "  r = req.get(url)\n",
        "  \n",
        "  \n",
        "  \n",
        "  root = bs4.BeautifulSoup(r.text,\"html.parser\")\n",
        "  ment = str(root.find_all(\"h3\"))\n",
        "  #title = ment.select_one(\"div\").getText()\n",
        "  \n",
        "  tmp=0\n",
        "  pp=-1\n",
        "  for i in ans:\n",
        "    if i in ment:\n",
        "      anss=i\n",
        "      pp=tmp\n",
        "    tmp+=1\n",
        "  \n",
        "  if pp==0:\n",
        "    answer='A'\n",
        "  elif pp==1:\n",
        "    answer='B'\n",
        "  elif pp==2:\n",
        "    answer='C'\n",
        "  else:\n",
        "    answer='None'\n",
        "\n",
        "  # print(answer)\n",
        "  if(answer=='None'):\n",
        "    print(num+1) \n",
        "  a.append(answer)\n",
        "print(json.dumps(a))\n",
        "print(\"\")"
      ],
      "metadata": {
        "id": "t5kezQ165S3A",
        "colab": {
          "base_uri": "https://localhost:8080/"
        },
        "outputId": "1b6ee765-25d6-4e52-f979-eb226a88a0c4"
      },
      "execution_count": 21,
      "outputs": [
        {
          "output_type": "stream",
          "name": "stdout",
          "text": [
            "2\n",
            "3\n",
            "4\n",
            "6\n",
            "7\n",
            "9\n",
            "18\n",
            "19\n",
            "20\n",
            "23\n",
            "25\n",
            "26\n",
            "28\n",
            "29\n",
            "30\n",
            "31\n",
            "43\n",
            "45\n",
            "46\n",
            "48\n",
            "49\n",
            "51\n",
            "52\n",
            "54\n",
            "55\n",
            "57\n",
            "63\n",
            "66\n",
            "67\n",
            "70\n",
            "72\n",
            "75\n",
            "77\n",
            "78\n",
            "80\n",
            "81\n",
            "82\n",
            "83\n",
            "84\n",
            "88\n",
            "92\n",
            "99\n",
            "100\n",
            "101\n",
            "102\n",
            "108\n",
            "113\n",
            "116\n",
            "117\n",
            "122\n",
            "126\n",
            "127\n",
            "128\n",
            "129\n",
            "130\n",
            "131\n",
            "133\n",
            "136\n",
            "146\n",
            "149\n",
            "153\n",
            "154\n",
            "160\n",
            "161\n",
            "163\n",
            "164\n",
            "168\n",
            "173\n",
            "174\n",
            "175\n",
            "180\n",
            "184\n",
            "188\n",
            "193\n",
            "194\n",
            "196\n",
            "198\n",
            "200\n",
            "[\"A\", \"None\", \"None\", \"None\", \"C\", \"None\", \"None\", \"B\", \"None\", \"B\", \"B\", \"B\", \"B\", \"A\", \"B\", \"A\", \"A\", \"None\", \"None\", \"None\", \"B\", \"C\", \"None\", \"B\", \"None\", \"None\", \"B\", \"None\", \"None\", \"None\", \"None\", \"C\", \"C\", \"A\", \"B\", \"C\", \"A\", \"B\", \"C\", \"B\", \"A\", \"B\", \"None\", \"B\", \"None\", \"None\", \"A\", \"None\", \"None\", \"C\", \"None\", \"None\", \"C\", \"None\", \"None\", \"B\", \"None\", \"A\", \"A\", \"A\", \"C\", \"B\", \"None\", \"B\", \"B\", \"None\", \"None\", \"C\", \"B\", \"None\", \"C\", \"None\", \"C\", \"A\", \"None\", \"B\", \"None\", \"None\", \"A\", \"None\", \"None\", \"None\", \"None\", \"None\", \"B\", \"C\", \"A\", \"None\", \"A\", \"B\", \"C\", \"None\", \"B\", \"C\", \"B\", \"B\", \"C\", \"C\", \"None\", \"None\", \"None\", \"None\", \"C\", \"B\", \"B\", \"A\", \"B\", \"None\", \"C\", \"B\", \"A\", \"A\", \"None\", \"B\", \"B\", \"None\", \"None\", \"A\", \"B\", \"B\", \"A\", \"None\", \"B\", \"A\", \"A\", \"None\", \"None\", \"None\", \"None\", \"None\", \"None\", \"C\", \"None\", \"C\", \"A\", \"None\", \"A\", \"A\", \"A\", \"A\", \"A\", \"B\", \"C\", \"A\", \"A\", \"None\", \"A\", \"C\", \"None\", \"A\", \"A\", \"B\", \"None\", \"None\", \"C\", \"B\", \"C\", \"C\", \"A\", \"None\", \"None\", \"B\", \"None\", \"None\", \"C\", \"A\", \"C\", \"None\", \"B\", \"A\", \"B\", \"C\", \"None\", \"None\", \"None\", \"B\", \"A\", \"A\", \"C\", \"None\", \"A\", \"B\", \"B\", \"None\", \"C\", \"B\", \"A\", \"None\", \"C\", \"C\", \"B\", \"A\", \"None\", \"None\", \"A\", \"None\", \"B\", \"None\", \"A\", \"None\"]\n",
            "\n"
          ]
        }
      ]
    }
  ]
}